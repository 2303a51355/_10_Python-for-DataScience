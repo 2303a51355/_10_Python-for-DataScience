{
  "nbformat": 4,
  "nbformat_minor": 0,
  "metadata": {
    "colab": {
      "provenance": [],
      "include_colab_link": true
    },
    "kernelspec": {
      "name": "python3",
      "display_name": "Python 3"
    },
    "language_info": {
      "name": "python"
    }
  },
  "cells": [
    {
      "cell_type": "markdown",
      "metadata": {
        "id": "view-in-github",
        "colab_type": "text"
      },
      "source": [
        "<a href=\"https://colab.research.google.com/github/2303a51355/_10_Python-for-DataScience/blob/main/LAB_5.ipynb\" target=\"_parent\"><img src=\"https://colab.research.google.com/assets/colab-badge.svg\" alt=\"Open In Colab\"/></a>"
      ]
    },
    {
      "cell_type": "code",
      "execution_count": 1,
      "metadata": {
        "colab": {
          "base_uri": "https://localhost:8080/"
        },
        "id": "tQS6PtUY1fyN",
        "outputId": "e0d9d70e-04a4-41fd-ca74-e7ca957a92f8"
      },
      "outputs": [
        {
          "output_type": "stream",
          "name": "stdout",
          "text": [
            "Merged Inner Join:\n",
            "   sale_id  product_id  quantity   sale_date product_name     category  price  \\\n",
            "0      101           1         2  2025-09-01       Laptop  Electronics   1000   \n",
            "1      102           2         1  2025-09-02   Smartphone  Electronics    700   \n",
            "2      103           2         2  2025-09-03   Smartphone  Electronics    700   \n",
            "3      104           3         3  2025-09-01       Tablet  Electronics    400   \n",
            "4      105           4         5  2025-09-03      Monitor  Accessories    150   \n",
            "\n",
            "   revenue  \n",
            "0     2000  \n",
            "1      700  \n",
            "2     1400  \n",
            "3     1200  \n",
            "4      750  \n",
            "\n",
            "Merged Outer Join:\n",
            "   sale_id  product_id  quantity   sale_date product_name     category  price\n",
            "0      101           1         2  2025-09-01       Laptop  Electronics   1000\n",
            "1      102           2         1  2025-09-02   Smartphone  Electronics    700\n",
            "2      103           2         2  2025-09-03   Smartphone  Electronics    700\n",
            "3      104           3         3  2025-09-01       Tablet  Electronics    400\n",
            "4      105           4         5  2025-09-03      Monitor  Accessories    150\n",
            "\n",
            "Product-wise Sales:\n",
            "   product_id product_name  revenue\n",
            "0           1       Laptop     2000\n",
            "1           2   Smartphone     2100\n",
            "2           3       Tablet     1200\n",
            "3           4      Monitor      900\n",
            "\n",
            "Category-wise Sales:\n",
            "      category  revenue\n",
            "0  Accessories      900\n",
            "1  Electronics     5300\n",
            "\n",
            "Total Revenue: 6200\n",
            "Average Price: 562.5\n",
            "Best Selling Category: Electronics\n"
          ]
        }
      ],
      "source": [
        "import pandas as pd\n",
        "data_products = {\n",
        "    'product_id': [1, 2, 3, 4],\n",
        "    'product_name': ['Laptop', 'Smartphone', 'Tablet', 'Monitor'],\n",
        "    'category': ['Electronics', 'Electronics', 'Electronics', 'Accessories'],\n",
        "    'price': [1000, 700, 400, 150]\n",
        "}\n",
        "products = pd.DataFrame(data_products)\n",
        "\n",
        "data_sales = {\n",
        "    'sale_id': [101, 102, 103, 104, 105, 106],\n",
        "    'product_id': [1, 2, 2, 3, 4, 4],\n",
        "    'quantity': [2, 1, 2, 3, 5, 1],\n",
        "    'sale_date': ['2025-09-01', '2025-09-02', '2025-09-03', '2025-09-01', '2025-09-03', '2025-09-04']\n",
        "}\n",
        "sales = pd.DataFrame(data_sales)\n",
        "\n",
        "merged_inner = pd.merge(sales, products, on='product_id', how='inner')\n",
        "merged_outer = pd.merge(sales, products, on='product_id', how='outer')\n",
        "\n",
        "# Compute statistics\n",
        "merged_inner['revenue'] = merged_inner['quantity'] * merged_inner['price']\n",
        "total_revenue = merged_inner['revenue'].sum()\n",
        "avg_price = products['price'].mean()\n",
        "\n",
        "# Product-wise sales (total revenue per product)\n",
        "product_sales = merged_inner.groupby(['product_id', 'product_name'])['revenue'].sum().reset_index()\n",
        "# Category-wise revenue\n",
        "category_sales = merged_inner.groupby('category')['revenue'].sum().reset_index()\n",
        "best_selling_category = category_sales.loc[category_sales['revenue'].idxmax()]\n",
        "\n",
        "print('Merged Inner Join:')\n",
        "print(merged_inner.head())\n",
        "print('\\nMerged Outer Join:')\n",
        "print(merged_outer.head())\n",
        "print('\\nProduct-wise Sales:')\n",
        "print(product_sales)\n",
        "print('\\nCategory-wise Sales:')\n",
        "print(category_sales)\n",
        "print('\\nTotal Revenue:', total_revenue)\n",
        "print('Average Price:', avg_price)\n",
        "print('Best Selling Category:', best_selling_category['category'])\n"
      ]
    },
    {
      "cell_type": "code",
      "source": [
        "import pandas as pd\n",
        "\n",
        "teachers = pd.DataFrame({\n",
        "    'teacher_id': [1, 2, 3, 4],\n",
        "    'teacher_name': ['Alice', 'Bob', 'Charlie', 'David'],\n",
        "    'department': ['Math', 'Science', 'Math', 'Literature']\n",
        "})\n",
        "\n",
        "courses = pd.DataFrame({\n",
        "    'course_id': [101, 102, 103, 104, 105, 106],\n",
        "    'course_name': [\n",
        "        'Algebra', 'Biology', 'Geometry', 'Chemistry', 'Literature 101', 'Poetry'\n",
        "    ],\n",
        "    'teacher_id': [1, 2, 1, 2, 4, 4],\n",
        "    'credit_hours': [3, 4, 3, 4, 2, 2]\n",
        "})\n",
        "\n",
        "\n",
        "merged_inner = pd.merge(teachers, courses, on='teacher_id', how='inner')\n",
        "merged_left = pd.merge(teachers, courses, on='teacher_id', how='left')\n",
        "\n",
        "# Average courses per teacher\n",
        "courses_per_teacher = merged_inner.groupby('teacher_id')['course_id'].nunique().reset_index()\n",
        "avg_courses = courses_per_teacher['course_id'].mean()\n",
        "\n",
        "# Group by department, calculate total workload (sum of credit_hours)\n",
        "dept_workload = merged_inner.groupby('department')['credit_hours'].sum().reset_index()\n",
        "\n",
        "print(\"=== Inner Join (matched teachers/courses) ===\")\n",
        "print(merged_inner)\n",
        "print(\"\\n=== Left Join (all teachers, all courses if matched) ===\")\n",
        "print(merged_left)\n",
        "print(f\"\\nAverage courses per teacher: {avg_courses:.2f}\")\n",
        "print(\"\\nDepartment-wise Total Workload:\")\n",
        "print(dept_workload)\n"
      ],
      "metadata": {
        "colab": {
          "base_uri": "https://localhost:8080/"
        },
        "id": "XPo2V24Y14va",
        "outputId": "2ff05a76-89f1-4c98-f687-d8ec82369a1b"
      },
      "execution_count": 2,
      "outputs": [
        {
          "output_type": "stream",
          "name": "stdout",
          "text": [
            "=== Inner Join (matched teachers/courses) ===\n",
            "   teacher_id teacher_name  department  course_id     course_name  \\\n",
            "0           1        Alice        Math        101         Algebra   \n",
            "1           1        Alice        Math        103        Geometry   \n",
            "2           2          Bob     Science        102         Biology   \n",
            "3           2          Bob     Science        104       Chemistry   \n",
            "4           4        David  Literature        105  Literature 101   \n",
            "5           4        David  Literature        106          Poetry   \n",
            "\n",
            "   credit_hours  \n",
            "0             3  \n",
            "1             3  \n",
            "2             4  \n",
            "3             4  \n",
            "4             2  \n",
            "5             2  \n",
            "\n",
            "=== Left Join (all teachers, all courses if matched) ===\n",
            "   teacher_id teacher_name  department  course_id     course_name  \\\n",
            "0           1        Alice        Math      101.0         Algebra   \n",
            "1           1        Alice        Math      103.0        Geometry   \n",
            "2           2          Bob     Science      102.0         Biology   \n",
            "3           2          Bob     Science      104.0       Chemistry   \n",
            "4           3      Charlie        Math        NaN             NaN   \n",
            "5           4        David  Literature      105.0  Literature 101   \n",
            "6           4        David  Literature      106.0          Poetry   \n",
            "\n",
            "   credit_hours  \n",
            "0           3.0  \n",
            "1           3.0  \n",
            "2           4.0  \n",
            "3           4.0  \n",
            "4           NaN  \n",
            "5           2.0  \n",
            "6           2.0  \n",
            "\n",
            "Average courses per teacher: 2.00\n",
            "\n",
            "Department-wise Total Workload:\n",
            "   department  credit_hours\n",
            "0  Literature             4\n",
            "1        Math             6\n",
            "2     Science             8\n"
          ]
        }
      ]
    }
  ]
}